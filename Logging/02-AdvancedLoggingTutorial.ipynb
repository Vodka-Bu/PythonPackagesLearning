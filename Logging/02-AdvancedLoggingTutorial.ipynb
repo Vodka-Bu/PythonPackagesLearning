{
 "cells": [
  {
   "cell_type": "markdown",
   "metadata": {},
   "source": [
    "# Logging进阶篇  \n",
    "\n",
    "和基础篇比，本篇才算是打开了logging的大门，基础篇的很多操作其实内部都做了不少默认动作，尤其是basicConfig，所做的内容其实很多  \n",
    "本篇从基础介绍了logging 模块的基本类，通过对基础类的实例化来创建日志记录器，虽然相对基础篇更复杂，但其实更加符合python的思维。\n",
    "\n",
    "logging 底层有四个大类：\n",
    "* Logger: 也就是日志记录器类，实例化后直接用来操作各种日志记录操作\n",
    "* Handler: 用于确定将日志记录输出到哪里，一个日志记录器可以有多个handler\n",
    "* Filter: 更细粒度的区分对什么日志进行输出\n",
    "* Formatter: 更细粒度的确定日志输出格式\n",
    "\n",
    "最终日志记录器生成一个 LogRecord 实例，从而完成日志输出"
   ]
  },
  {
   "cell_type": "markdown",
   "metadata": {},
   "source": [
    "## 整个logging的流程"
   ]
  },
  {
   "cell_type": "markdown",
   "metadata": {},
   "source": [
    "![LoggingFlow](https://docs.python.org/3/_images/logging_flow.png)"
   ]
  },
  {
   "cell_type": "markdown",
   "metadata": {},
   "source": [
    "流程图可以表述成以下内容：\n",
    "* logging call (请求日志记录)\n",
    "* 创建 LogRecord 实例\n",
    "* 判断日志记录器的 filter 是否拒绝了该记录？\n",
    "* 将日志记录传输给该日志记录器的所有handlers\n",
    "    * handlers 判断 LogRecord 是否符合自己的level\n",
    "    * handlers 的 filters 是否命中了该条 LogRecord\n",
    "    * 输出\n",
    "* 判断该日志记录器，是否有传输（广播）的性质\n",
    "* 如果有，判断logger 是否有父logger，有的话将LogRecord继续传给父logger的handlers\n",
    "\n",
    "所谓父logger，在Logger会讨论"
   ]
  },
  {
   "cell_type": "markdown",
   "metadata": {},
   "source": [
    "## Logger  \n",
    "\n",
    "* 实例化对象，就是logger，日志记录器\n",
    "* 每个日志记录器都需要有个名字\n",
    "    * 命名规则是可以有继承关系的，比如名字为 scan 的日志记录器，就是名字为 scan.pdf, scan.text 的父logger，当调用scan.pdf记录日志的时候，LogRecord同样会被传入给scan的handlers，被判断要不要被输出在一些地方（这个功能太高级了，暂时用不到）\n",
    "    * 继承规则有一个用处是确定该logger的默认等级，当这个logger的等级没有被明确是什么的时候，会尝试去寻找父节点的level是什么，一直追查到最终根节点的logger，根节点肯定会有明确的level\n",
    "* 名字原则上没有任何要求，仅仅是用来代表你知道这个日志出自哪里\n",
    "* 但是最常见的命名logger的方式还是： logger = logging.getLogger(\\_\\_name\\_\\_) 因为这样可以明确的知道这条日志来自哪里\n",
    "* 既然日志记录器的命名是可以继承的，那么就存在一个根节点的名字，根节点的名字就叫做 'root'，如果直接用logging来call，默认就是用这个logger\n",
    "* logger 用logging.getLogger(name) 的形式获得，如果这个 name 在整个进程（全局）中已经被创建过，则会返回原有的logger，否则会创建一个新的logger，但是 'root' 这个字符除外，他不会调用根节点的logger， 仍然会创建一个新的，名字也叫 root 的子节点logger，因此实际中不建议创建名字为 root 的日志记录器\n"
   ]
  },
  {
   "cell_type": "code",
   "execution_count": 1,
   "metadata": {
    "collapsed": false
   },
   "outputs": [
    {
     "name": "stderr",
     "output_type": "stream",
     "text": [
      "WARNING:root:This is a default warning\n"
     ]
    }
   ],
   "source": [
    "import logging\n",
    "# 直接logging的日志记录器，默认的形式\n",
    "logging.warning('This is a default warning')"
   ]
  },
  {
   "cell_type": "code",
   "execution_count": 1,
   "metadata": {
    "collapsed": false
   },
   "outputs": [
    {
     "name": "stderr",
     "output_type": "stream",
     "text": [
      "This is a __name__ warning\n",
      "This is a warning by a logger named root\n",
      "WARNING:root:This is a default warning\n"
     ]
    }
   ],
   "source": [
    "# 需要重启解释器\n",
    "import logging \n",
    "# 名字为__name__的日志记录器，默认的形式'\n",
    "logger = logging.getLogger(__name__)\n",
    "logger.warning('This is a __name__ warning')\n",
    "\n",
    "# 名字为 root 的日志记录器，格式与上面的一致\n",
    "logger_r = logging.getLogger('root')\n",
    "logger_r.warning('This is a warning by a logger named root')\n",
    "\n",
    "# logging 默认的根节点日志\n",
    "logging.warning('This is a default warning')"
   ]
  },
  {
   "cell_type": "markdown",
   "metadata": {},
   "source": [
    "可以看到 logger_r 和 根节点日志记录器，并不是同一个日志记录器"
   ]
  },
  {
   "cell_type": "markdown",
   "metadata": {},
   "source": [
    "### Logger的工作内容，有个三个层面\n",
    "* 日志各种 call\n",
    "* 确定一个基本的输出 level：类似 warning，info 等 （其实就是一个基本的filter）\n",
    "* 将满足level的log传输给相应的handler\n",
    "\n",
    "这里可以看到，除了不能绑定 format，logger 可以与 filter和hanler 绑定完成工作\n",
    "\n",
    "### 最常用的logger的函数\n",
    "* Logger.setLevel(): 确定输出level\n",
    "* Logger.addHandler() / Logger.removeHandler(): 添加 Handler\n",
    "* Logger.addFilter() / Logger.removeFilter(): 添加Filter\n",
    "\n",
    "当然你不需要每次创建新的日志记录器的时候都调用这些方法：\n",
    "* 在python 3.2 之后，如果没有指定过handler，那么会使用 logging.lastResort，但是这不代表 logging.lastResort 被绑定在该logger上了\n",
    "* 如果没有 setLevel 或者 指定过 filter ，那么logger本身的筛选就是none，对所有的信息都可以通过，真正起作用的是各个 handler 中的 filter，也就是level"
   ]
  },
  {
   "cell_type": "code",
   "execution_count": 2,
   "metadata": {
    "collapsed": false
   },
   "outputs": [
    {
     "data": {
      "text/plain": [
       "<_StderrHandler stderr (WARNING)>"
      ]
     },
     "execution_count": 2,
     "metadata": {},
     "output_type": "execute_result"
    }
   ],
   "source": [
    "logging.lastResort"
   ]
  },
  {
   "cell_type": "markdown",
   "metadata": {},
   "source": [
    "### 当Logger被配置完成以后\n",
    "* Logger.debug()/Logger.info()/Logger.warning()/Logger.error()/Logger.critical()\n",
    "    * 创建相应的 LogRecord\n",
    "    * 有一个参数： exc_info 是用来判定log是否要输出 exception 信息的\n",
    "* Logger.expection()\n",
    "    * 和 logger.error() 相似，区别就在于exception 同时会输出 stack trace\n",
    "    * 只有 exception handler 才可以用\n",
    "* Logger.log()\n",
    "    * 可以设定 loglevel，这个loglevel应该是可以用数字的，适用于整个日志等级不仅仅是简单的五个level，需要更多等级时候的个性化配置"
   ]
  },
  {
   "cell_type": "code",
   "execution_count": 1,
   "metadata": {
    "collapsed": false,
    "scrolled": true
   },
   "outputs": [
    {
     "name": "stderr",
     "output_type": "stream",
     "text": [
      "ERROR:root:error:\n",
      "Traceback (most recent call last):\n",
      "  File \"<ipython-input-1-5ce02062a8d4>\", line 4, in <module>\n",
      "    int('s')\n",
      "ValueError: invalid literal for int() with base 10: 's'\n",
      "ERROR:root:error but no exception\n",
      "ERROR:root:error with exception:\n",
      "Traceback (most recent call last):\n",
      "  File \"<ipython-input-1-5ce02062a8d4>\", line 14, in <module>\n",
      "    int('s')\n",
      "ValueError: invalid literal for int() with base 10: 's'\n",
      "ERROR:root:error but no exception\n",
      "WARNING:root:warning with exception\n",
      "Traceback (most recent call last):\n",
      "  File \"<ipython-input-1-5ce02062a8d4>\", line 24, in <module>\n",
      "    int('s')\n",
      "ValueError: invalid literal for int() with base 10: 's'\n"
     ]
    }
   ],
   "source": [
    "import logging\n",
    "# 验证 logging.warning logging.error logging.exception 的关系\n",
    "try:\n",
    "    int('s')\n",
    "except:\n",
    "    logging.exception('error:')\n",
    "\n",
    "try:\n",
    "    int('s')\n",
    "except:\n",
    "    logging.error('error but no exception')\n",
    "\n",
    "try:\n",
    "    int('s')\n",
    "except:\n",
    "    logging.error('error with exception:', exc_info=True)\n",
    "\n",
    "try:\n",
    "    int('s')\n",
    "except:\n",
    "    logging.error('error but no exception', exc_info=False)\n",
    "\n",
    "try:\n",
    "    int('s')\n",
    "except:\n",
    "    logging.warning('warning with exception', exc_info=True)"
   ]
  },
  {
   "cell_type": "markdown",
   "metadata": {},
   "source": [
    "### 关于传播\n",
    "* 子日志记录器会把LogRecord传递给父日志记录器，所以没有必要将所有的handlers赋给所有的logger，合理利用这种层级关系，可以更有效\n",
    "* 如果要修改这种传播性质，可以用 Logger.propagate\n",
    "* 这里要注意的是，logger如果没有addHandler过，那么会调用logging.lastResort 来做输出，这并不代表handler被绑定在logger上了"
   ]
  },
  {
   "cell_type": "code",
   "execution_count": 1,
   "metadata": {
    "collapsed": false
   },
   "outputs": [
    {
     "name": "stderr",
     "output_type": "stream",
     "text": [
      "warning from foo\n"
     ]
    }
   ],
   "source": [
    "# 需要重启解释器\n",
    "# 新日志记录器的父记录器是 root，并且有传播的性质\n",
    "import logging\n",
    "\n",
    "# 创建一个日志记录器\n",
    "logger = logging.getLogger('foo')\n",
    "# 会打印一条信息，虽然有传播性质，但是因为 root 没有初始化，也就是没有绑定过handler，所以不会输出\n",
    "logger.warning('warning from foo')"
   ]
  },
  {
   "cell_type": "code",
   "execution_count": 2,
   "metadata": {
    "collapsed": false,
    "scrolled": true
   },
   "outputs": [
    {
     "name": "stderr",
     "output_type": "stream",
     "text": [
      "root: init root\n"
     ]
    }
   ],
   "source": [
    "# 给根记录器也绑定一个handler\n",
    "logging.basicConfig(format = '%(name)s: %(message)s',level = 'INFO')\n",
    "logging.info('init root')"
   ]
  },
  {
   "cell_type": "code",
   "execution_count": 3,
   "metadata": {
    "collapsed": false
   },
   "outputs": [
    {
     "name": "stderr",
     "output_type": "stream",
     "text": [
      "foo: warning from foo\n"
     ]
    }
   ],
   "source": [
    "# 会发送一条，且仅来自root，因为 logging.lastResort 并没有被使用\n",
    "logger.warning('warning from foo')"
   ]
  },
  {
   "cell_type": "code",
   "execution_count": 4,
   "metadata": {
    "collapsed": false
   },
   "outputs": [
    {
     "name": "stderr",
     "output_type": "stream",
     "text": [
      "warning from foo\n",
      "foo: warning from foo\n"
     ]
    }
   ],
   "source": [
    "# 给 logger 也绑定handler，方便起见就使用 logging.lastResort\n",
    "logger.addHandler(logging.lastResort)\n",
    "# 这里会发送两条，一条来自 foo， 一条来自 root\n",
    "logger.warning('warning from foo')\n",
    "# 另外我们可以看到因为本身这个 LogRecord 是有 foo 创建的，所以虽然是root发出的信息，还是会显示 name = foo"
   ]
  },
  {
   "cell_type": "code",
   "execution_count": 5,
   "metadata": {
    "collapsed": false
   },
   "outputs": [
    {
     "name": "stderr",
     "output_type": "stream",
     "text": [
      "foo: info from foo\n"
     ]
    }
   ],
   "source": [
    "# 这里会出现一条，是来自 root 的，因为 foo 自己并没有设置 filter，info信息是可以通过的，之所以没输出是 foo对应的handler限制了输出\n",
    "logger.info('info from foo')"
   ]
  },
  {
   "cell_type": "code",
   "execution_count": 6,
   "metadata": {
    "collapsed": true
   },
   "outputs": [],
   "source": [
    "# 对 foo setLevel\n",
    "logger.setLevel('WARNING')\n",
    "# 这里就不会出现任何记录，因为logger在最开始就过滤掉了本条记录，没有传给root\n",
    "logger.info('info from foo')"
   ]
  },
  {
   "cell_type": "markdown",
   "metadata": {},
   "source": [
    "## Handler\n",
    "\n",
    "* 一个日志记录器可以把 LogRecord 传输给不同的输出内容，包括\n",
    "    * 文件\n",
    "    * HTTP GET/POST \n",
    "    * 邮件\n",
    "    * sockets\n",
    "    * queues (可能是进程之间的管道？)\n",
    "    * 系统特定日志记录方法\n",
    "    * ……任何其他自定义的handler\n",
    "* 默认状态下没有handle会直接被赋予一个logger，如果使用basicConfig，那么会有一个传输给 console 或者 文件 的handle赋予root\n",
    "* 如果没有使用basicConfig 直接使用了各种call 命令，则会创建一个到 console 的handler(当然也会创建一个默认的format)\n",
    "* 正如流程图所示，每个handler自己是可以有filter 的，也就是说你可以给一个 LogRecord 设置多个 handler，每个handler有不同的筛选条件，比如将所有的日志信息输入文件，但是仅在 console 输出warning 以上的信息"
   ]
  },
  {
   "cell_type": "markdown",
   "metadata": {},
   "source": [
    "### Handle 标准操作\n",
    "\n",
    "其他的操作，因不同的Handler 会有不同\n",
    "* setLevel(): 设置level\n",
    "* setFormatter(): 设置 format\n",
    "* addFilter() / removeFilter(): 设置特殊的Filter"
   ]
  },
  {
   "cell_type": "markdown",
   "metadata": {
    "collapsed": true
   },
   "source": [
    "### 标准库 Handler 列举\n",
    "\n",
    "各个Handler的使用方法参考各种接口\n",
    "\n",
    "* StreamHandler: 传递数据给console，默认是 sys.stderr， 可以指定其他的流，可以直接在basicConfig中指定\n",
    "* FileHandler: 可以设定文件，写入的方式（a，w），编码，延迟（直到有第一个call才创建文件），可以直接在basicConfig中指定\n",
    "* BaseRotatingHandler: 循环文件的Base类，不太需要直接使用\n",
    "    * RotatingFileHandler: 可以循环写入文件，按照文件的大小分割（默认文件大小可以无限大），每次被写的文件都是 .log ，当rollover时，会被命名成 .log.1 其他的名字会被重命名到 .2  .3 ...\n",
    "    * TimedRotatingFileHandler: 可以循环写入文件，按照时间分割，可以按照 各种 时间间隔 来间隔，也可以用 'midnight' , 可以设置文件后缀,具体如果需要了解还是官方文档的好。\n",
    "* SocketHandler\n",
    "* ……"
   ]
  },
  {
   "cell_type": "markdown",
   "metadata": {},
   "source": [
    "## formatters"
   ]
  },
  {
   "cell_type": "code",
   "execution_count": null,
   "metadata": {
    "collapsed": true
   },
   "outputs": [],
   "source": []
  },
  {
   "cell_type": "markdown",
   "metadata": {},
   "source": [
    "## filters"
   ]
  },
  {
   "cell_type": "code",
   "execution_count": null,
   "metadata": {
    "collapsed": true
   },
   "outputs": [],
   "source": []
  }
 ],
 "metadata": {
  "kernelspec": {
   "display_name": "Python 3",
   "language": "python",
   "name": "python3"
  },
  "language_info": {
   "codemirror_mode": {
    "name": "ipython",
    "version": 3
   },
   "file_extension": ".py",
   "mimetype": "text/x-python",
   "name": "python",
   "nbconvert_exporter": "python",
   "pygments_lexer": "ipython3",
   "version": "3.6.7"
  },
  "toc": {
   "nav_menu": {},
   "number_sections": false,
   "sideBar": true,
   "skip_h1_title": false,
   "toc_cell": false,
   "toc_position": {},
   "toc_section_display": "block",
   "toc_window_display": false
  },
  "varInspector": {
   "cols": {
    "lenName": 16,
    "lenType": 16,
    "lenVar": 40
   },
   "kernels_config": {
    "python": {
     "delete_cmd_postfix": "",
     "delete_cmd_prefix": "del ",
     "library": "var_list.py",
     "varRefreshCmd": "print(var_dic_list())"
    },
    "r": {
     "delete_cmd_postfix": ") ",
     "delete_cmd_prefix": "rm(",
     "library": "var_list.r",
     "varRefreshCmd": "cat(var_dic_list()) "
    }
   },
   "types_to_exclude": [
    "module",
    "function",
    "builtin_function_or_method",
    "instance",
    "_Feature"
   ],
   "window_display": false
  }
 },
 "nbformat": 4,
 "nbformat_minor": 2
}
